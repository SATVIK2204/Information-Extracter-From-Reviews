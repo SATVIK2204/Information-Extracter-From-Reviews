{
 "cells": [
  {
   "cell_type": "code",
   "execution_count": 0,
   "metadata": {
    "colab": {
     "base_uri": "https://localhost:8080/",
     "height": 121
    },
    "colab_type": "code",
    "id": "xWbuloqWo5vG",
    "outputId": "0e0e297d-165e-4357-8563-bf013cb60ec5"
   },
   "outputs": [
    {
     "name": "stdout",
     "output_type": "stream",
     "text": [
      "Go to this URL in a browser: https://accounts.google.com/o/oauth2/auth?client_id=947318989803-6bn6qk8qdgf4n4g3pfee6491hc0brc4i.apps.googleusercontent.com&redirect_uri=urn%3aietf%3awg%3aoauth%3a2.0%3aoob&response_type=code&scope=email%20https%3a%2f%2fwww.googleapis.com%2fauth%2fdocs.test%20https%3a%2f%2fwww.googleapis.com%2fauth%2fdrive%20https%3a%2f%2fwww.googleapis.com%2fauth%2fdrive.photos.readonly%20https%3a%2f%2fwww.googleapis.com%2fauth%2fpeopleapi.readonly\n",
      "\n",
      "Enter your authorization code:\n",
      "··········\n",
      "Mounted at /content/gdrive\n"
     ]
    }
   ],
   "source": [
    "from google.colab import drive\n",
    "drive.mount('/content/gdrive')"
   ]
  },
  {
   "cell_type": "code",
   "execution_count": 0,
   "metadata": {
    "colab": {},
    "colab_type": "code",
    "id": "cI829WEgwpqz"
   },
   "outputs": [],
   "source": [
    "import numpy as np\n",
    "import pandas as pd\n",
    "import json\n",
    "import os\n",
    "import gzip\n"
   ]
  },
  {
   "cell_type": "code",
   "execution_count": 0,
   "metadata": {
    "colab": {
     "base_uri": "https://localhost:8080/",
     "height": 113
    },
    "colab_type": "code",
    "id": "_gEop0-GjAxJ",
    "outputId": "041784d8-fd54-4aa9-815d-8fb9ff3b0413"
   },
   "outputs": [
    {
     "name": "stdout",
     "output_type": "stream",
     "text": [
      "[nltk_data] Downloading package stopwords to /root/nltk_data...\n",
      "[nltk_data]   Unzipping corpora/stopwords.zip.\n"
     ]
    },
    {
     "name": "stderr",
     "output_type": "stream",
     "text": [
      "Using TensorFlow backend.\n"
     ]
    },
    {
     "data": {
      "text/html": [
       "<p style=\"color: red;\">\n",
       "The default version of TensorFlow in Colab will soon switch to TensorFlow 2.x.<br>\n",
       "We recommend you <a href=\"https://www.tensorflow.org/guide/migrate\" target=\"_blank\">upgrade</a> now \n",
       "or ensure your notebook will continue to use TensorFlow 1.x via the <code>%tensorflow_version 1.x</code> magic:\n",
       "<a href=\"https://colab.research.google.com/notebooks/tensorflow_version.ipynb\" target=\"_blank\">more info</a>.</p>\n"
      ],
      "text/plain": [
       "<IPython.core.display.HTML object>"
      ]
     },
     "metadata": {
      "tags": []
     },
     "output_type": "display_data"
    }
   ],
   "source": [
    "import nltk\n",
    "from nltk.corpus import stopwords\n",
    "from nltk.stem import SnowballStemmer\n",
    "from nltk.tokenize import RegexpTokenizer\n",
    "nltk.download('stopwords')\n",
    "\n",
    "\n",
    "\n",
    "import numpy as np\n",
    "import pandas as pd\n",
    "\n",
    "import warnings\n",
    "\n",
    "from sklearn.utils import shuffle\n",
    "\n",
    "from keras.utils import to_categorical\n",
    "from keras.models import load_model\n",
    "from keras.models import Sequential\n",
    "from keras.layers import Dense, Activation,Conv1D,MaxPooling1D,Flatten,Dropout\n",
    "from nltk.stem import PorterStemmer, LancasterStemmer, SnowballStemmer\n",
    "from sklearn.preprocessing import LabelEncoder\n",
    "from sklearn.feature_extraction.text import CountVectorizer\n",
    "warnings.filterwarnings('ignore')\n"
   ]
  },
  {
   "cell_type": "code",
   "execution_count": 0,
   "metadata": {
    "colab": {},
    "colab_type": "code",
    "id": "z9bSuFx_jAxd"
   },
   "outputs": [],
   "source": [
    "def parse(path):\n",
    "    g = gzip.open(path, 'rb')\n",
    "    for l in g:\n",
    "        yield json.loads(l)\n",
    "def getDF(path):\n",
    "    i = 0\n",
    "    df = {}\n",
    "    for d in parse(path):\n",
    "        df[i] = d\n",
    "        i += 1\n",
    "    return pd.DataFrame.from_dict(df, orient='index')\n"
   ]
  },
  {
   "cell_type": "code",
   "execution_count": 0,
   "metadata": {
    "colab": {},
    "colab_type": "code",
    "id": "4H_hYmZnxCTF"
   },
   "outputs": [],
   "source": [
    "def make_train_data():\n",
    "    data1 = []\n",
    "\n",
    "    for filename in os.listdir(\"/content/gdrive/My Drive/input_project\"):\n",
    "        if filename.endswith(\".json.gz\"): \n",
    "\n",
    "            data1.append(filename)\n",
    "    data=sorted(data1)\n",
    "    \n",
    "    \n",
    "    df=pd.DataFrame()\n",
    "    for i in range(2):\n",
    "        df1=getDF(f\"/content/gdrive/My Drive/input_project/{data[i]}\")\n",
    "  \n",
    "        name=[]\n",
    "        for j in range(len(df1.index)):\n",
    "            name.append(data[i])\n",
    "        df1[\"Name\"]=name\n",
    "\n",
    "        df = df.append(df1, ignore_index=True)\n",
    "\n",
    "\n",
    "\n",
    "\n",
    "    df=df.drop([\"asin\",\"reviewerID\",\"unixReviewTime\",\"reviewTime\",\"summary\",\"reviewerName\",\"helpful\"],axis=1)\n",
    "    df=df.replace(r'^\\s*$', np.nan, regex=True).replace('',np.nan)\n",
    "    df=df.fillna(\"6\")\n",
    "    df=shuffle(df,replace=False)\n",
    "    df.reset_index(inplace=True, drop=True)\n",
    "\n",
    "    df.to_csv('Train_data.csv',index=False)\n",
    "    "
   ]
  },
  {
   "cell_type": "code",
   "execution_count": 0,
   "metadata": {
    "colab": {},
    "colab_type": "code",
    "id": "QdGqF3ekwtzV"
   },
   "outputs": [],
   "source": [
    "def myTokenizer(sentence):\n",
    "    tokenizer = RegexpTokenizer(\"[a-zA-Z]+\")\n",
    "     \n",
    "    sw = set(stopwords.words('english'))-set([\"not\"])\n",
    "    ps = PorterStemmer()\n",
    "\n",
    "    sentence = tokenizer.tokenize(sentence.lower())\n",
    "    return [ps.stem(w) for w in sentence if w not in sw]"
   ]
  },
  {
   "cell_type": "code",
   "execution_count": 0,
   "metadata": {
    "colab": {},
    "colab_type": "code",
    "id": "5Q-8mrT1wt1x"
   },
   "outputs": [],
   "source": [
    "cv1 = CountVectorizer(tokenizer=myTokenizer)\n",
    "\n",
    "label_encoder1 = LabelEncoder()\n",
    "def Clean_sentiment_data(dfx,dfxtt):\n",
    "    revew=dfx[\"reviewText\"]\n",
    "    review=revew.values\n",
    "    review=review.tolist()\n",
    "    \n",
    "    revews=dfxtt[\"reviewText\"]\n",
    "    reviews=revews.values\n",
    "    reviews=reviews.tolist()\n",
    "    \n",
    "    global cv1\n",
    "    vectorized_corpus = cv1.fit_transform(review)\n",
    "    \n",
    "    xtestvec=cv1.transform(reviews)\n",
    "    \n",
    "    global label_encoder1\n",
    "    integer_category = label_encoder1.fit_transform(dfx.overall)\n",
    "    encoded_y = to_categorical(integer_category)\n",
    "\n",
    "    integer_category = label_encoder1.fit_transform(dfxtt.overall)\n",
    "    encoded_yt = to_categorical(integer_category)\n",
    "    \n",
    "    return vectorized_corpus,encoded_y,xtestvec,encoded_yt\n",
    "   "
   ]
  },
  {
   "cell_type": "code",
   "execution_count": 0,
   "metadata": {
    "colab": {},
    "colab_type": "code",
    "id": "cUTCB-zYNrLZ"
   },
   "outputs": [],
   "source": [
    "cv2 = CountVectorizer(tokenizer=myTokenizer)\n",
    "\n",
    "label_encoder2 = LabelEncoder()\n",
    "\n",
    "def Clean_aspect_data(dfx,dfxtt):\n",
    "    revew=dfx[\"reviewText\"]\n",
    "    review=revew.values\n",
    "    review=review.tolist()\n",
    "    \n",
    "    revews=dfxtt[\"reviewText\"]\n",
    "    reviews=revews.values\n",
    "    reviews=reviews.tolist()\n",
    "    \n",
    "    global cv2\n",
    "\n",
    "    vectorized_corpus = cv2.fit_transform(review)\n",
    "    \n",
    "    xtestvec=cv2.transform(reviews)\n",
    "    \n",
    "    global label_encoder2\n",
    "    integer_category = label_encoder2.fit_transform(dfx.Name)\n",
    "    encoded_y = to_categorical(integer_category)\n",
    "\n",
    "    integer_category = label_encoder2.fit_transform(dfxtt.Name)\n",
    "    encoded_yt = to_categorical(integer_category)\n",
    "    \n",
    "    return vectorized_corpus,encoded_y,xtestvec,encoded_yt\n",
    "   "
   ]
  },
  {
   "cell_type": "code",
   "execution_count": 0,
   "metadata": {
    "colab": {},
    "colab_type": "code",
    "id": "aiJlT2HRLkpq"
   },
   "outputs": [],
   "source": [
    "cv3 = CountVectorizer(tokenizer=myTokenizer)\n",
    "\n",
    "label_encoder3 = LabelEncoder()\n",
    "\n",
    "def Clean_rating_data(dfx,dfxtt):\n",
    "    revew=dfx[\"reviewText\"]\n",
    "    review=revew.values\n",
    "    review=review.tolist()\n",
    "    \n",
    "    revews=dfxtt[\"reviewText\"]\n",
    "    reviews=revews.values\n",
    "    reviews=reviews.tolist()\n",
    "    \n",
    "    global cv3\n",
    "\n",
    "    vectorized_corpus = cv3.fit_transform(review)\n",
    "    \n",
    "    xtestvec=cv3.transform(reviews)\n",
    "    \n",
    "    global label_encoder3\n",
    "    integer_category = label_encoder3.fit_transform(dfx.overall)\n",
    "    encoded_y = to_categorical(integer_category)\n",
    "\n",
    "    integer_category = label_encoder3.fit_transform(dfxtt.overall)\n",
    "    encoded_yt = to_categorical(integer_category)\n",
    "    \n",
    "    return vectorized_corpus,encoded_y,xtestvec,encoded_yt\n",
    "   "
   ]
  },
  {
   "cell_type": "code",
   "execution_count": 0,
   "metadata": {
    "colab": {},
    "colab_type": "code",
    "id": "_IZkAMw2a6yO"
   },
   "outputs": [],
   "source": [
    "def Clean_sentiment_test_data(dfxt):\n",
    "    revew=dfxt[\"reviewText\"]\n",
    "    review=revew.values\n",
    "    review=review.tolist()\n",
    "    global cv1\n",
    "    xtestvec=cv1.transform(review)\n",
    "    \n",
    "    return xtestvec\n",
    "    "
   ]
  },
  {
   "cell_type": "code",
   "execution_count": 0,
   "metadata": {
    "colab": {},
    "colab_type": "code",
    "id": "evn-4H4nPPo6"
   },
   "outputs": [],
   "source": [
    "def Clean_aspect_test_data(dfxt):\n",
    "    revew=dfxt[\"reviewText\"]\n",
    "    review=revew.values\n",
    "    review=review.tolist()\n",
    "    global cv2\n",
    "    xtestvec=cv2.transform(review)\n",
    "    \n",
    "    return xtestvec\n",
    "    "
   ]
  },
  {
   "cell_type": "code",
   "execution_count": 0,
   "metadata": {
    "colab": {},
    "colab_type": "code",
    "id": "LmkB7T7BLuJB"
   },
   "outputs": [],
   "source": [
    "def Clean_rating_test_data(dfxt):\n",
    "    revew=dfxt[\"reviewText\"]\n",
    "    review=revew.values\n",
    "    review=review.tolist()\n",
    "    global cv3\n",
    "    xtestvec=cv3.transform(review)\n",
    "    \n",
    "    return xtestvec\n",
    "    "
   ]
  },
  {
   "cell_type": "code",
   "execution_count": 0,
   "metadata": {
    "colab": {
     "base_uri": "https://localhost:8080/",
     "height": 70
    },
    "colab_type": "code",
    "id": "WtbEfpzPwttj",
    "outputId": "fa8b5ce2-95ff-4c59-b854-7074c41b6d8e"
   },
   "outputs": [
    {
     "name": "stdout",
     "output_type": "stream",
     "text": [
      "WARNING:tensorflow:From /usr/local/lib/python3.6/dist-packages/keras/backend/tensorflow_backend.py:66: The name tf.get_default_graph is deprecated. Please use tf.compat.v1.get_default_graph instead.\n",
      "\n"
     ]
    }
   ],
   "source": [
    "model1 = Sequential()\n",
    "\n",
    "def Train_sentiment_data(dfx,dfxtt):\n",
    "    \n",
    "    X,Y,xtestvec,encoded_yt=Clean_sentiment_data(dfx,dfxtt)\n",
    "    \n",
    "    \n",
    "\n",
    "    #XTrain= preprocess_data(X)\n",
    "    #xtestvec=preprocess_data(xtestvec)\n",
    "    global model\n",
    "    \n",
    "    model1.add(Dense(512, input_shape=(X.shape[1],), activation='relu'))\n",
    "    model1.add((Dense(256, activation='relu')))\n",
    "    model1.add((Dense(128, activation='relu')))\n",
    "    model1.add(Dense(2,activation='softmax'))\n",
    "    model1.compile(loss='categorical_crossentropy', optimizer='Adam', metrics=['accuracy'])\n",
    "    \n",
    "    model1.fit(X,Y, epochs=20,validation_data=(xtestvec,encoded_yt))\n",
    "    return xtestvec,encoded_yt\n",
    "    "
   ]
  },
  {
   "cell_type": "code",
   "execution_count": 0,
   "metadata": {
    "colab": {},
    "colab_type": "code",
    "id": "6SCWKPSbAJRT"
   },
   "outputs": [],
   "source": [
    "model2 = Sequential()\n",
    "\n",
    "def Train_aspect_data(dfx,dfxtt):\n",
    "    \n",
    "    X,Y,xtestvec,encoded_yt=Clean_aspect_data(dfx,dfxtt)\n",
    "    \n",
    "    \n",
    "\n",
    "    #XTrain= preprocess_data(X)\n",
    "    #xtestvec=preprocess_data(xtestvec)\n",
    "    global model2\n",
    "    \n",
    "    model2.add(Dense(512, input_shape=(X.shape[1],), activation='relu'))\n",
    "    model2.add((Dense(256, activation='relu')))\n",
    "    model2.add((Dense(128, activation='relu')))\n",
    "    model2.add(Dense(2,activation='softmax'))\n",
    "    model2.compile(loss='categorical_crossentropy', optimizer='Adam', metrics=['accuracy'])\n",
    "    \n",
    "    model2.fit(X,Y, epochs=10,validation_data=(xtestvec,encoded_yt))\n",
    "    "
   ]
  },
  {
   "cell_type": "code",
   "execution_count": 0,
   "metadata": {
    "colab": {},
    "colab_type": "code",
    "id": "2teZQwi_MM-z"
   },
   "outputs": [],
   "source": [
    "model3 = Sequential()\n",
    "\n",
    "def Train_rating_data(dfx,dfxtt):\n",
    "    \n",
    "    X,Y,xtestvec,encoded_yt=Clean_rating_data(dfx,dfxtt)\n",
    "    \n",
    "    \n",
    "\n",
    "    #XTrain= preprocess_data(X)\n",
    "    #xtestvec=preprocess_data(xtestvec)\n",
    "    global model3\n",
    "    \n",
    "    model3.add(Dense(512, input_shape=(X.shape[1],), activation='relu'))\n",
    "    model3.add((Dense(256, activation='relu')))\n",
    "    model3.add((Dense(128, activation='relu')))\n",
    "    model3.add(Dense(5,activation='softmax'))\n",
    "    model.compile(loss='binary_crossentropy', optimizer='adam', metrics=['accuracy'])    \n",
    "    model3.fit(X,Y, epochs=10,validation_data=(xtestvec,encoded_yt))\n",
    "    "
   ]
  },
  {
   "cell_type": "code",
   "execution_count": 0,
   "metadata": {
    "colab": {},
    "colab_type": "code",
    "id": "2AuX2VCRwtn7"
   },
   "outputs": [],
   "source": [
    "def Train_for_sentiment():\n",
    "  dfx=pd.read_csv(\"Train_data.csv\")\n",
    "  bigdata=dfx\n",
    "  '''bigdata.overall[(3<bigdata.overall) & (bigdata.overall<=5)]=\"POSTIVE\"\n",
    "  bigdata.overall[bigdata.overall==3]=\"NEUTRAL\"\n",
    "  bigdata.overall[bigdata.overall<3]=\"NEGATIVE\"'''\n",
    "  for i in range(len(bigdata.overall)):\n",
    "    if (3<=bigdata.overall[i]) & (bigdata.overall[i]<=5):\n",
    "      bigdata.overall[i]=\"POSITIVE\"\n",
    "    elif bigdata.overall[i]<3:\n",
    "      bigdata.overall[i]=\"NEGATIVE\"\n",
    "  dfxt=bigdata.iloc[:60000,:]\n",
    "\n",
    "  dfxtt=bigdata.iloc[60000:,:]\n",
    "  xtestvec,encoded_yt=Train_sentiment_data(dfxt,dfxtt)\n",
    "  return xtestvec,encoded_yt"
   ]
  },
  {
   "cell_type": "code",
   "execution_count": 0,
   "metadata": {
    "colab": {},
    "colab_type": "code",
    "id": "LLqWpj_h-Zpr"
   },
   "outputs": [],
   "source": [
    "def Train_for_category():\n",
    "  dfx=pd.read_csv(\"Train_data.csv\")\n",
    "  bigdata=dfx\n",
    "  dfxt=bigdata.iloc[:60000,:]\n",
    "\n",
    "  dfxtt=bigdata.iloc[60000:,:]\n",
    "  Train_aspect_data(dfxt,dfxtt)"
   ]
  },
  {
   "cell_type": "code",
   "execution_count": 0,
   "metadata": {
    "colab": {},
    "colab_type": "code",
    "id": "4xAm1rptMTdv"
   },
   "outputs": [],
   "source": [
    "def Train_for_rating():\n",
    "  dfx=pd.read_csv(\"Train_data.csv\")\n",
    "  bigdata=dfx\n",
    "  dfxt=bigdata.iloc[:60000,:]\n",
    "\n",
    "  dfxtt=bigdata.iloc[60000:,:]\n",
    "  Train_rating_data(dfxt,dfxtt)"
   ]
  },
  {
   "cell_type": "code",
   "execution_count": 0,
   "metadata": {
    "colab": {},
    "colab_type": "code",
    "id": "sg5ftIGlVWKo"
   },
   "outputs": [],
   "source": [
    "def Get_the_sentiment():\n",
    "    fb = open(\"abcd.txt\", 'w')\n",
    "    \n",
    "\n",
    "    with open(\"input.txt\", 'r') as f:\n",
    "      for line in f:\n",
    "        fb.write(line.replace(\",\", \".\"))\n",
    "    #print(line.replace(\",\", \".\"))\n",
    "        fb.write(\"\\n\")\n",
    "    fb.close()\n",
    "    dfxt=pd.read_csv('abcd.txt', header=None)\n",
    "\n",
    "    dfxt.columns = [\"reviewText\"]\n",
    "    \n",
    "    X_test=Clean_sentiment_test_data(dfxt)\n",
    "    global model1\n",
    "    test_category = label_encoder1.inverse_transform(model1.predict_classes(X_test))\n",
    "    probab=model1.predict_proba(X_test)\n",
    "    \n",
    "    '''print(f\"Probability of All beauty is : {probab[0][0]}\")\n",
    "    print(f\"Probability of Grocery is    : {probab[0][1]} \")'''\n",
    "    for i in range(len(test_category)):\n",
    "      print(f\"The overall rating is {test_category[i]}\")\n",
    "    \n",
    "   \n",
    "    \n",
    "    "
   ]
  },
  {
   "cell_type": "code",
   "execution_count": 0,
   "metadata": {
    "colab": {},
    "colab_type": "code",
    "id": "HD9abumGVYH3"
   },
   "outputs": [],
   "source": [
    "def Get_the_category():\n",
    "    \n",
    "    fb = open(\"abcd.txt\", 'w')\n",
    "\n",
    "    with open(\"input.txt\", 'r') as f:\n",
    "      for line in f:\n",
    "        fb.write(line.replace(\",\", \".\"))\n",
    "    #print(line.replace(\",\", \".\"))\n",
    "        fb.write(\"\\n\")\n",
    "    fb.close()\n",
    "    dfxt=pd.read_csv('abcd.txt', header=None)\n",
    "\n",
    "    dfxt.columns = [\"reviewText\"]\n",
    "    \n",
    "    X_test=Clean_aspect_test_data(dfxt)\n",
    "    global model2\n",
    "    test_category = label_encoder2.inverse_transform(model2.predict_classes(X_test))\n",
    "    probab=model2.predict_proba(X_test)\n",
    "    \n",
    "    '''print(f\"Probability of All beauty is : {probab[0][0]}\")\n",
    "    print(f\"Probability of Grocery is    : {probab[0][1]} \")'''\n",
    "    for i in range(len(test_category)):\n",
    "      test_category[i]=test_category[i].replace(\".json.gz\",\"\")\n",
    "      print(f\"This review belong to {test_category[i]}\")\n",
    "    \n",
    "  \n",
    "    \n",
    "    "
   ]
  },
  {
   "cell_type": "code",
   "execution_count": 0,
   "metadata": {
    "colab": {},
    "colab_type": "code",
    "id": "bRxOIzuKVbHP"
   },
   "outputs": [],
   "source": [
    "def Get_the_rating():\n",
    "    \n",
    "    fb = open(\"abcd.txt\", 'w')\n",
    "\n",
    "    with open(\"input.txt\", 'r') as f:\n",
    "      for line in f:\n",
    "        fb.write(line.replace(\",\", \".\"))\n",
    "    #print(line.replace(\",\", \".\"))\n",
    "        fb.write(\"\\n\")\n",
    "    fb.close()\n",
    "    dfxt=pd.read_csv('abcd.txt', header=None)\n",
    "\n",
    "    dfxt.columns = [\"reviewText\"]\n",
    "    \n",
    "    X_test=Clean_rating_test_data(dfxt)\n",
    "    global model3\n",
    "    test_category = label_encoder3.inverse_transform(model3.predict_classes(X_test))\n",
    "    probab=model3.predict_proba(X_test)\n",
    "    \n",
    "    '''print(f\"Probability of All beauty is : {probab[0][0]}\")\n",
    "    print(f\"Probability of Grocery is    : {probab[0][1]} \")'''\n",
    "    for i in range(len(test_category)):\n",
    "      print(f\"The overall rating is {test_category[i]}\")\n",
    "    \n",
    "    \n",
    "    \n",
    "    "
   ]
  },
  {
   "cell_type": "code",
   "execution_count": 0,
   "metadata": {
    "colab": {},
    "colab_type": "code",
    "id": "VE7h2Rospcy9"
   },
   "outputs": [],
   "source": [
    "def Get_sentiment():\n",
    "    fb = open(\"abcd.txt\", 'w')\n",
    "    \n",
    "\n",
    "    with open(\"input.txt\", 'r') as f:\n",
    "      for line in f:\n",
    "        fb.write(line.replace(\",\", \".\"))\n",
    "    #print(line.replace(\",\", \".\"))\n",
    "        fb.write(\"\\n\")\n",
    "    fb.close()\n",
    "    dfxt=pd.read_csv('abcd.txt', header=None)\n",
    "\n",
    "    dfxt.columns = [\"reviewText\"]\n",
    "    \n",
    "    X_test=Clean_sentiment_test_data(dfxt)\n",
    "    global model1\n",
    "    test_category = label_encoder1.inverse_transform(model1.predict_classes(X_test))\n",
    "    probab=model1.predict_proba(X_test)\n",
    "    \n",
    "    '''print(f\"Probability of All beauty is : {probab[0][0]}\")\n",
    "    print(f\"Probability of Grocery is    : {probab[0][1]} \")\n",
    "    for i in range(len(test_category)):\n",
    "      if test_category[i]==1:\n",
    "        print(f\"This review is POSITIVE\")\n",
    "      else:\n",
    "        print(\"This review is NEGATIVE\")'''\n",
    "    return test_category\n",
    "   \n",
    "    \n",
    "    "
   ]
  },
  {
   "cell_type": "code",
   "execution_count": 0,
   "metadata": {
    "colab": {},
    "colab_type": "code",
    "id": "xjcDXgO5wtqr"
   },
   "outputs": [],
   "source": [
    "def Get_category():\n",
    "    \n",
    "    fb = open(\"abcd.txt\", 'w')\n",
    "\n",
    "    with open(\"input.txt\", 'r') as f:\n",
    "      for line in f:\n",
    "        fb.write(line.replace(\",\", \".\"))\n",
    "    #print(line.replace(\",\", \".\"))\n",
    "        fb.write(\"\\n\")\n",
    "    fb.close()\n",
    "    dfxt=pd.read_csv('abcd.txt', header=None)\n",
    "\n",
    "    dfxt.columns = [\"reviewText\"]\n",
    "    \n",
    "    X_test=Clean_aspect_test_data(dfxt)\n",
    "    global model2\n",
    "    test_category = label_encoder2.inverse_transform(model2.predict_classes(X_test))\n",
    "    probab=model2.predict_proba(X_test)\n",
    "    \n",
    "    '''print(f\"Probability of All beauty is : {probab[0][0]}\")\n",
    "    print(f\"Probability of Grocery is    : {probab[0][1]} \")\n",
    "    for i in range(len(test_category)):\n",
    "      print(f\"This review belong to {test_category[i]}\")'''\n",
    "    return test_category\n",
    "    \n",
    "    \n",
    "    \n",
    "    \n",
    "    "
   ]
  },
  {
   "cell_type": "code",
   "execution_count": 0,
   "metadata": {
    "colab": {},
    "colab_type": "code",
    "id": "umCo4tqiqnF7"
   },
   "outputs": [],
   "source": [
    "def Get_rating():\n",
    "    \n",
    "    fb = open(\"abcd.txt\", 'w')\n",
    "\n",
    "    with open(\"input.txt\", 'r') as f:\n",
    "      for line in f:\n",
    "        fb.write(line.replace(\",\", \".\"))\n",
    "    #print(line.replace(\",\", \".\"))\n",
    "        fb.write(\"\\n\")\n",
    "    fb.close()\n",
    "    dfxt=pd.read_csv('abcd.txt', header=None)\n",
    "\n",
    "    dfxt.columns = [\"reviewText\"]\n",
    "    \n",
    "    X_test=Clean_rating_test_data(dfxt)\n",
    "    global model3\n",
    "    test_category = label_encoder3.inverse_transform(model3.predict_classes(X_test))\n",
    "    probab=model3.predict_proba(X_test)\n",
    "    \n",
    "    '''print(f\"Probability of All beauty is : {probab[0][0]}\")\n",
    "    print(f\"Probability of Grocery is    : {probab[0][1]} \")\n",
    "    for i in range(len(test_category)):\n",
    "      print(f\"The overall rating is {test_category[i]}\")'''\n",
    "    return test_category\n",
    "    \n",
    "    \n",
    "    "
   ]
  },
  {
   "cell_type": "code",
   "execution_count": 0,
   "metadata": {
    "colab": {},
    "colab_type": "code",
    "id": "a9UU-mPqqnCX"
   },
   "outputs": [],
   "source": [
    "def Result():\n",
    "  S=Get_sentiment()\n",
    "  C=Get_category()\n",
    "  R=Get_rating()\n",
    "\n",
    "  for i in range(len(S)):\n",
    "    if (R[i] in [1.0,2.0]) & (S[i]==\"POSITIVE\"):\n",
    "      print(\"This review is SOMEWHAT POSITIVE\")\n",
    "      C[i]=C[i].replace(\".json.gz\",\"\")\n",
    "      print(f\"It belongs to belongs to {C[i]}\")\n",
    "      print(f\"It's overall rating is {R[i]} \\n\")\n",
    "    elif (R[i] in [4.0,5.0]) & (S[i]==\"NEGATIVE\"):\n",
    "      print(\"This review is SOMEWHAT NEGATIVE\")\n",
    "      C[i]=C[i].replace(\".json.gz\",\"\")\n",
    "      print(f\"It belongs to belongs to {C[i]}\")\n",
    "      print(f\"It's overall rating is {R[i]} \\n\")\n",
    "    else: \n",
    "        print(f\"This review is {S[i]} \")\n",
    "        C[i]=C[i].replace(\".json.gz\",\"\")\n",
    "        print(f\"It belongs to belongs to {C[i]}\")\n",
    "        print(f\"It's overall rating is {R[i]} \\n \")\n",
    "\n"
   ]
  },
  {
   "cell_type": "code",
   "execution_count": 0,
   "metadata": {
    "colab": {},
    "colab_type": "code",
    "id": "BFxRB228qm_g"
   },
   "outputs": [],
   "source": []
  },
  {
   "cell_type": "markdown",
   "metadata": {
    "colab_type": "text",
    "id": "izUKWHiGjAyq"
   },
   "source": [
    "Classification starts"
   ]
  },
  {
   "cell_type": "code",
   "execution_count": 0,
   "metadata": {
    "colab": {},
    "colab_type": "code",
    "id": "NZ7wiUqNTwWs"
   },
   "outputs": [],
   "source": [
    "make_train_data()"
   ]
  },
  {
   "cell_type": "code",
   "execution_count": 0,
   "metadata": {
    "colab": {
     "base_uri": "https://localhost:8080/",
     "height": 1000
    },
    "colab_type": "code",
    "id": "hrsSA2isEfZh",
    "outputId": "db8466d4-779d-4221-f973-58e1a299e87b"
   },
   "outputs": [
    {
     "name": "stdout",
     "output_type": "stream",
     "text": [
      "WARNING:tensorflow:From /usr/local/lib/python3.6/dist-packages/keras/backend/tensorflow_backend.py:541: The name tf.placeholder is deprecated. Please use tf.compat.v1.placeholder instead.\n",
      "\n",
      "WARNING:tensorflow:From /usr/local/lib/python3.6/dist-packages/keras/backend/tensorflow_backend.py:4432: The name tf.random_uniform is deprecated. Please use tf.random.uniform instead.\n",
      "\n",
      "WARNING:tensorflow:From /usr/local/lib/python3.6/dist-packages/keras/optimizers.py:793: The name tf.train.Optimizer is deprecated. Please use tf.compat.v1.train.Optimizer instead.\n",
      "\n",
      "WARNING:tensorflow:From /usr/local/lib/python3.6/dist-packages/keras/backend/tensorflow_backend.py:3576: The name tf.log is deprecated. Please use tf.math.log instead.\n",
      "\n",
      "WARNING:tensorflow:From /usr/local/lib/python3.6/dist-packages/tensorflow_core/python/ops/math_grad.py:1424: where (from tensorflow.python.ops.array_ops) is deprecated and will be removed in a future version.\n",
      "Instructions for updating:\n",
      "Use tf.where in 2.0, which has the same broadcast rule as np.where\n",
      "WARNING:tensorflow:From /usr/local/lib/python3.6/dist-packages/keras/backend/tensorflow_backend.py:1033: The name tf.assign_add is deprecated. Please use tf.compat.v1.assign_add instead.\n",
      "\n",
      "WARNING:tensorflow:From /usr/local/lib/python3.6/dist-packages/keras/backend/tensorflow_backend.py:1020: The name tf.assign is deprecated. Please use tf.compat.v1.assign instead.\n",
      "\n",
      "WARNING:tensorflow:From /usr/local/lib/python3.6/dist-packages/keras/backend/tensorflow_backend.py:3005: The name tf.Session is deprecated. Please use tf.compat.v1.Session instead.\n",
      "\n",
      "Train on 60000 samples, validate on 11973 samples\n",
      "Epoch 1/20\n",
      "WARNING:tensorflow:From /usr/local/lib/python3.6/dist-packages/keras/backend/tensorflow_backend.py:190: The name tf.get_default_session is deprecated. Please use tf.compat.v1.get_default_session instead.\n",
      "\n",
      "WARNING:tensorflow:From /usr/local/lib/python3.6/dist-packages/keras/backend/tensorflow_backend.py:197: The name tf.ConfigProto is deprecated. Please use tf.compat.v1.ConfigProto instead.\n",
      "\n",
      "WARNING:tensorflow:From /usr/local/lib/python3.6/dist-packages/keras/backend/tensorflow_backend.py:207: The name tf.global_variables is deprecated. Please use tf.compat.v1.global_variables instead.\n",
      "\n",
      "WARNING:tensorflow:From /usr/local/lib/python3.6/dist-packages/keras/backend/tensorflow_backend.py:216: The name tf.is_variable_initialized is deprecated. Please use tf.compat.v1.is_variable_initialized instead.\n",
      "\n",
      "WARNING:tensorflow:From /usr/local/lib/python3.6/dist-packages/keras/backend/tensorflow_backend.py:223: The name tf.variables_initializer is deprecated. Please use tf.compat.v1.variables_initializer instead.\n",
      "\n",
      "60000/60000 [==============================] - 34s 559us/step - loss: 0.2696 - acc: 0.8957 - val_loss: 0.2355 - val_acc: 0.9060\n",
      "Epoch 2/20\n",
      "60000/60000 [==============================] - 24s 397us/step - loss: 0.1565 - acc: 0.9372 - val_loss: 0.2669 - val_acc: 0.8942\n",
      "Epoch 3/20\n",
      "60000/60000 [==============================] - 23s 389us/step - loss: 0.0415 - acc: 0.9860 - val_loss: 0.4539 - val_acc: 0.8987\n",
      "Epoch 4/20\n",
      "60000/60000 [==============================] - 23s 383us/step - loss: 0.0090 - acc: 0.9974 - val_loss: 0.5488 - val_acc: 0.9013\n",
      "Epoch 5/20\n",
      "60000/60000 [==============================] - 23s 386us/step - loss: 0.0075 - acc: 0.9984 - val_loss: 0.6636 - val_acc: 0.9002\n",
      "Epoch 6/20\n",
      "60000/60000 [==============================] - 23s 382us/step - loss: 0.0064 - acc: 0.9987 - val_loss: 0.8450 - val_acc: 0.9008\n",
      "Epoch 7/20\n",
      "60000/60000 [==============================] - 23s 382us/step - loss: 0.0052 - acc: 0.9987 - val_loss: 0.6838 - val_acc: 0.9029\n",
      "Epoch 8/20\n",
      "60000/60000 [==============================] - 23s 384us/step - loss: 0.0059 - acc: 0.9987 - val_loss: 0.8338 - val_acc: 0.9014\n",
      "Epoch 9/20\n",
      "60000/60000 [==============================] - 23s 381us/step - loss: 0.0087 - acc: 0.9983 - val_loss: 0.6189 - val_acc: 0.8994\n",
      "Epoch 10/20\n",
      "60000/60000 [==============================] - 23s 385us/step - loss: 0.0059 - acc: 0.9989 - val_loss: 0.6248 - val_acc: 0.8992\n",
      "Epoch 11/20\n",
      "60000/60000 [==============================] - 23s 384us/step - loss: 0.0038 - acc: 0.9992 - val_loss: 0.9126 - val_acc: 0.8998\n",
      "Epoch 12/20\n",
      "60000/60000 [==============================] - 23s 383us/step - loss: 0.0039 - acc: 0.9993 - val_loss: 0.8716 - val_acc: 0.8988\n",
      "Epoch 13/20\n",
      "60000/60000 [==============================] - 23s 384us/step - loss: 0.0039 - acc: 0.9993 - val_loss: 0.8728 - val_acc: 0.9007\n",
      "Epoch 14/20\n",
      "60000/60000 [==============================] - 23s 386us/step - loss: 0.0054 - acc: 0.9990 - val_loss: 0.8490 - val_acc: 0.8980\n",
      "Epoch 15/20\n",
      "60000/60000 [==============================] - 23s 384us/step - loss: 0.0038 - acc: 0.9993 - val_loss: 0.6786 - val_acc: 0.8983\n",
      "Epoch 16/20\n",
      "60000/60000 [==============================] - 23s 387us/step - loss: 0.0027 - acc: 0.9995 - val_loss: 0.8203 - val_acc: 0.9008\n",
      "Epoch 17/20\n",
      "60000/60000 [==============================] - 23s 384us/step - loss: 0.0028 - acc: 0.9995 - val_loss: 0.8349 - val_acc: 0.9004\n",
      "Epoch 18/20\n",
      "60000/60000 [==============================] - 23s 387us/step - loss: 0.0045 - acc: 0.9993 - val_loss: 0.8243 - val_acc: 0.8953\n",
      "Epoch 19/20\n",
      "60000/60000 [==============================] - 23s 381us/step - loss: 0.0015 - acc: 0.9997 - val_loss: 0.9642 - val_acc: 0.8974\n",
      "Epoch 20/20\n",
      "60000/60000 [==============================] - 23s 381us/step - loss: 0.0014 - acc: 0.9998 - val_loss: 1.0747 - val_acc: 0.8983\n"
     ]
    },
    {
     "data": {
      "text/plain": [
       "(<11973x33630 sparse matrix of type '<class 'numpy.int64'>'\n",
       " \twith 470537 stored elements in Compressed Sparse Row format>,\n",
       " array([[1., 0.],\n",
       "        [0., 1.],\n",
       "        [0., 1.],\n",
       "        ...,\n",
       "        [0., 1.],\n",
       "        [1., 0.],\n",
       "        [0., 1.]], dtype=float32))"
      ]
     },
     "execution_count": 27,
     "metadata": {
      "tags": []
     },
     "output_type": "execute_result"
    }
   ],
   "source": [
    "Train_for_sentiment()"
   ]
  },
  {
   "cell_type": "code",
   "execution_count": 0,
   "metadata": {
    "colab": {
     "base_uri": "https://localhost:8080/",
     "height": 370
    },
    "colab_type": "code",
    "id": "aUmYe3u_Eja3",
    "outputId": "74f861bc-7b83-483f-b593-c1db9d6b7dfe"
   },
   "outputs": [
    {
     "name": "stdout",
     "output_type": "stream",
     "text": [
      "Train on 60000 samples, validate on 11973 samples\n",
      "Epoch 1/10\n",
      "60000/60000 [==============================] - 23s 390us/step - loss: 0.0409 - acc: 0.9884 - val_loss: 0.0409 - val_acc: 0.9916\n",
      "Epoch 2/10\n",
      "60000/60000 [==============================] - 23s 382us/step - loss: 0.0113 - acc: 0.9969 - val_loss: 0.0454 - val_acc: 0.9921\n",
      "Epoch 3/10\n",
      "60000/60000 [==============================] - 23s 380us/step - loss: 0.0072 - acc: 0.9986 - val_loss: 0.0688 - val_acc: 0.9911\n",
      "Epoch 4/10\n",
      "60000/60000 [==============================] - 23s 379us/step - loss: 0.0048 - acc: 0.9991 - val_loss: 0.0718 - val_acc: 0.9914\n",
      "Epoch 5/10\n",
      "60000/60000 [==============================] - 23s 378us/step - loss: 0.0060 - acc: 0.9992 - val_loss: 0.0825 - val_acc: 0.9911\n",
      "Epoch 6/10\n",
      "60000/60000 [==============================] - 23s 380us/step - loss: 0.0041 - acc: 0.9993 - val_loss: 0.0731 - val_acc: 0.9916\n",
      "Epoch 7/10\n",
      "60000/60000 [==============================] - 23s 377us/step - loss: 0.0027 - acc: 0.9996 - val_loss: 0.0961 - val_acc: 0.9914\n",
      "Epoch 8/10\n",
      "60000/60000 [==============================] - 23s 380us/step - loss: 0.0023 - acc: 0.9997 - val_loss: 0.1022 - val_acc: 0.9911\n",
      "Epoch 9/10\n",
      "60000/60000 [==============================] - 22s 375us/step - loss: 0.0024 - acc: 0.9998 - val_loss: 0.0932 - val_acc: 0.9915\n",
      "Epoch 10/10\n",
      "60000/60000 [==============================] - 23s 379us/step - loss: 0.0024 - acc: 0.9997 - val_loss: 0.1121 - val_acc: 0.9914\n"
     ]
    }
   ],
   "source": [
    "Train_for_category()"
   ]
  },
  {
   "cell_type": "code",
   "execution_count": 0,
   "metadata": {
    "colab": {
     "base_uri": "https://localhost:8080/",
     "height": 370
    },
    "colab_type": "code",
    "id": "oLUJtzThNL98",
    "outputId": "c9de7965-b744-4db3-aa1e-75fcf2fae3d9"
   },
   "outputs": [
    {
     "name": "stdout",
     "output_type": "stream",
     "text": [
      "Train on 60000 samples, validate on 11973 samples\n",
      "Epoch 1/10\n",
      "60000/60000 [==============================] - 24s 401us/step - loss: 1.0023 - acc: 0.5917 - val_loss: 0.9367 - val_acc: 0.6170\n",
      "Epoch 2/10\n",
      "60000/60000 [==============================] - 23s 387us/step - loss: 0.7568 - acc: 0.6894 - val_loss: 0.9982 - val_acc: 0.6085\n",
      "Epoch 3/10\n",
      "60000/60000 [==============================] - 23s 376us/step - loss: 0.4286 - acc: 0.8313 - val_loss: 1.3358 - val_acc: 0.5872\n",
      "Epoch 4/10\n",
      "60000/60000 [==============================] - 23s 378us/step - loss: 0.1700 - acc: 0.9403 - val_loss: 1.9019 - val_acc: 0.5751\n",
      "Epoch 5/10\n",
      "60000/60000 [==============================] - 23s 378us/step - loss: 0.0723 - acc: 0.9776 - val_loss: 2.3991 - val_acc: 0.5743\n",
      "Epoch 6/10\n",
      "60000/60000 [==============================] - 23s 377us/step - loss: 0.0451 - acc: 0.9856 - val_loss: 2.7781 - val_acc: 0.5715\n",
      "Epoch 7/10\n",
      "60000/60000 [==============================] - 23s 379us/step - loss: 0.0381 - acc: 0.9883 - val_loss: 2.8491 - val_acc: 0.5731\n",
      "Epoch 8/10\n",
      "60000/60000 [==============================] - 23s 378us/step - loss: 0.0291 - acc: 0.9917 - val_loss: 3.0543 - val_acc: 0.5617\n",
      "Epoch 9/10\n",
      "60000/60000 [==============================] - 23s 378us/step - loss: 0.0292 - acc: 0.9911 - val_loss: 2.9836 - val_acc: 0.5760\n",
      "Epoch 10/10\n",
      "60000/60000 [==============================] - 23s 380us/step - loss: 0.0263 - acc: 0.9915 - val_loss: 3.0309 - val_acc: 0.5619\n"
     ]
    }
   ],
   "source": [
    "Train_for_rating()"
   ]
  },
  {
   "cell_type": "code",
   "execution_count": 0,
   "metadata": {
    "colab": {
     "base_uri": "https://localhost:8080/",
     "height": 67
    },
    "colab_type": "code",
    "id": "2j99-erbGLnm",
    "outputId": "78b35ec0-1c82-45e6-c0bc-3252572ddce8"
   },
   "outputs": [
    {
     "name": "stdout",
     "output_type": "stream",
     "text": [
      "The overall rating is NEGATIVE\n",
      "The overall rating is NEGATIVE\n",
      "The overall rating is POSITIVE\n"
     ]
    }
   ],
   "source": [
    "Get_the_sentiment()"
   ]
  },
  {
   "cell_type": "code",
   "execution_count": 0,
   "metadata": {
    "colab": {
     "base_uri": "https://localhost:8080/",
     "height": 67
    },
    "colab_type": "code",
    "id": "bVhihmM4NaUt",
    "outputId": "f83b304b-0626-4c5c-bc18-7bb143cb44bd"
   },
   "outputs": [
    {
     "name": "stdout",
     "output_type": "stream",
     "text": [
      "This review belong to reviews_All_Beauty\n",
      "This review belong to reviews_Grocery_and_Gourmet_Food_10\n",
      "This review belong to reviews_Grocery_and_Gourmet_Food_10\n"
     ]
    }
   ],
   "source": [
    "Get_the_category()"
   ]
  },
  {
   "cell_type": "code",
   "execution_count": 0,
   "metadata": {
    "colab": {
     "base_uri": "https://localhost:8080/",
     "height": 67
    },
    "colab_type": "code",
    "id": "DPnSvz87l-AX",
    "outputId": "002b97f8-1a52-4541-de60-e7a86e81baba"
   },
   "outputs": [
    {
     "name": "stdout",
     "output_type": "stream",
     "text": [
      "The overall rating is 1.0\n",
      "The overall rating is 1.0\n",
      "The overall rating is 5.0\n"
     ]
    }
   ],
   "source": [
    "Get_the_rating()"
   ]
  },
  {
   "cell_type": "code",
   "execution_count": 0,
   "metadata": {
    "colab": {
     "base_uri": "https://localhost:8080/",
     "height": 218
    },
    "colab_type": "code",
    "id": "G_pn6KJBcKFv",
    "outputId": "bea7d94d-9cce-407a-e5c1-663346b85b06"
   },
   "outputs": [
    {
     "name": "stdout",
     "output_type": "stream",
     "text": [
      "This review is NEGATIVE \n",
      "It belongs to belongs to reviews_All_Beauty\n",
      "It's overall rating is 1.0 \n",
      " \n",
      "This review is NEGATIVE \n",
      "It belongs to belongs to reviews_Grocery_and_Gourmet_Food_10\n",
      "It's overall rating is 1.0 \n",
      " \n",
      "This review is POSITIVE \n",
      "It belongs to belongs to reviews_Grocery_and_Gourmet_Food_10\n",
      "It's overall rating is 5.0 \n",
      " \n"
     ]
    }
   ],
   "source": [
    "Result()\n",
    "\n"
   ]
  },
  {
   "cell_type": "code",
   "execution_count": 0,
   "metadata": {
    "colab": {},
    "colab_type": "code",
    "id": "-4QqsXcM86d6"
   },
   "outputs": [],
   "source": []
  },
  {
   "cell_type": "code",
   "execution_count": 0,
   "metadata": {
    "colab": {},
    "colab_type": "code",
    "id": "cU8ILZuKcJ4Q"
   },
   "outputs": [],
   "source": []
  },
  {
   "cell_type": "code",
   "execution_count": 0,
   "metadata": {
    "colab": {},
    "colab_type": "code",
    "id": "B8Jn8BukcJ1N"
   },
   "outputs": [],
   "source": []
  },
  {
   "cell_type": "code",
   "execution_count": 0,
   "metadata": {
    "colab": {},
    "colab_type": "code",
    "id": "ivjz6ybYcJzX"
   },
   "outputs": [],
   "source": []
  },
  {
   "cell_type": "code",
   "execution_count": 0,
   "metadata": {
    "colab": {},
    "colab_type": "code",
    "id": "AHXr4tM1ja2S"
   },
   "outputs": [],
   "source": []
  }
 ],
 "metadata": {
  "accelerator": "GPU",
  "colab": {
   "collapsed_sections": [],
   "machine_shape": "hm",
   "name": " Final product.ipynb",
   "provenance": [],
   "toc_visible": true
  },
  "kernelspec": {
   "display_name": "Python 3",
   "language": "python",
   "name": "python3"
  },
  "language_info": {
   "codemirror_mode": {
    "name": "ipython",
    "version": 3
   },
   "file_extension": ".py",
   "mimetype": "text/x-python",
   "name": "python",
   "nbconvert_exporter": "python",
   "pygments_lexer": "ipython3",
   "version": "3.7.6"
  }
 },
 "nbformat": 4,
 "nbformat_minor": 1
}
